{
 "cells": [
  {
   "cell_type": "code",
   "execution_count": 2,
   "metadata": {},
   "outputs": [],
   "source": [
    "import numpy as np\n",
    "import pandas as pd\n",
    "from os import listdir\n",
    "from sklearn.cluster import KMeans\n",
    "from collections import Counter\n",
    "from random import shuffle\n",
    "from sklearn.model_selection import train_test_split\n",
    "from sklearn.ensemble import RandomForestClassifier\n",
    "from sklearn.svm import SVC\n",
    "from sklearn.neighbors import KNeighborsClassifier\n",
    "from knndtw import KNN_DTW"
   ]
  },
  {
   "cell_type": "code",
   "execution_count": 3,
   "metadata": {},
   "outputs": [],
   "source": [
    "folder_path = 'HMP_Dataset'\n",
    "folder_names = ['Brush_teeth','Climb_stairs','Comb_hair','Descend_stairs','Drink_glass','Eat_meat','Eat_soup','Getup_bed','Liedown_bed','Pour_water','Sitdown_chair','Standup_chair','Use_telephone','Walk']"
   ]
  },
  {
   "cell_type": "code",
   "execution_count": 4,
   "metadata": {},
   "outputs": [],
   "source": [
    "def get_files(path):\n",
    "    return listdir(path)"
   ]
  },
  {
   "cell_type": "code",
   "execution_count": 5,
   "metadata": {},
   "outputs": [],
   "source": [
    "def make_file_list(folder_names):\n",
    "    ret_list = []\n",
    "    for i, folder in enumerate(folder_names):\n",
    "        for filename in get_files(folder_path + '/' + folder):\n",
    "            ret_list.append((folder_path + '/' + folder + '/' + filename, i))\n",
    "    return ret_list"
   ]
  },
  {
   "cell_type": "code",
   "execution_count": 6,
   "metadata": {},
   "outputs": [],
   "source": [
    "def tts(file_list, train_size):\n",
    "    X, y = zip(*file_list)\n",
    "    return train_test_split(X, y, test_size=0.2)"
   ]
  },
  {
   "cell_type": "code",
   "execution_count": 7,
   "metadata": {},
   "outputs": [],
   "source": [
    "def get_num_lines(filename):\n",
    "    line_count = 0\n",
    "    with open(filename) as f:\n",
    "        for i in f:\n",
    "            line_count += 1\n",
    "    return line_count"
   ]
  },
  {
   "cell_type": "code",
   "execution_count": 8,
   "metadata": {},
   "outputs": [],
   "source": [
    "def get_raw_features(filename, block_size, file_id):\n",
    "    df = pd.read_table(filename, delim_whitespace=True, header=None)\n",
    "    ret = np.empty((len(df) // block_size, block_size * 3))\n",
    "\n",
    "    for i in range(len(df) // block_size):\n",
    "        ret[i,:] = df.iloc[i*block_size:((i+1)*block_size), :].values.ravel()\n",
    "        \n",
    "    df_ret = pd.DataFrame(ret)\n",
    "    df_ret['file_id'] = pd.Series([file_id for i in range(len(df_ret))])\n",
    "    #df_ret['folder_id'] = pd.Series([folder_id for i in range(len(df_ret))])\n",
    "    \n",
    "    return df_ret.set_index('file_id')"
   ]
  },
  {
   "cell_type": "code",
   "execution_count": 9,
   "metadata": {},
   "outputs": [],
   "source": [
    "def get_rawX(files, file_labels, block_size):\n",
    "    raw_X = pd.DataFrame()\n",
    "\n",
    "    labels = pd.DataFrame(index=range(len(files)), columns=['y'])\n",
    "\n",
    "    for i, filename in enumerate(files):\n",
    "        raw_X = raw_X.append(get_raw_features(filename, block_size, i))\n",
    "        labels.loc[i] = file_labels[i]\n",
    "        \n",
    "    return raw_X, labels"
   ]
  },
  {
   "cell_type": "code",
   "execution_count": 64,
   "metadata": {
    "scrolled": true
   },
   "outputs": [],
   "source": [
    "def get_clustered_data(raw_X, alphabet_size, clf=None):\n",
    "\n",
    "    if clf is None:\n",
    "        clf = KMeans(n_clusters=alphabet_size)\n",
    "        clf.fit(raw_X)\n",
    "        idx = np.argsort(np.sum(clf.cluster_centers_, axis=1))\n",
    "        clf.cluster_centers_ = np.take(clf.cluster_centers_, idx, axis=0)\n",
    "    \n",
    "    #print(np.sort(clf.cluster_centers_, axis=1))\n",
    "    #print(clf.labels_[0:10])\n",
    "\n",
    "    #print(clf.predict(raw_X)[0:10])\n",
    "    \n",
    "    raw_X['cluster'] = clf.predict(raw_X)\n",
    "\n",
    "    grouped = raw_X.groupby('file_id')\n",
    "    #df = pd.DataFrame(columns=[i for i in range(alphabet_size)], index=[i for i in range(len(grouped))])\n",
    "    \n",
    "    arr = []\n",
    "    \n",
    "    for g in grouped:\n",
    "        arr.append(g[1].cluster.values)\n",
    "        #arr = np.histogram(g[1].cluster, range=(0,alphabet_size-1), bins=alphabet_size)[0]\n",
    "        #df.loc[g[0]] = np.array([float(i)/np.sum(arr) for i in arr])\n",
    "    \n",
    "    return arr, clf"
   ]
  },
  {
   "cell_type": "code",
   "execution_count": 11,
   "metadata": {},
   "outputs": [],
   "source": [
    "def get_longest_arr(data):\n",
    "    longest = []\n",
    "    for l in data:\n",
    "        if len(l) > len(longest):\n",
    "            longest = l\n",
    "    return longest"
   ]
  },
  {
   "cell_type": "code",
   "execution_count": 12,
   "metadata": {},
   "outputs": [],
   "source": [
    "def create_ts_arr(arr, c):\n",
    "    coeff = len(arr) / c\n",
    "    return np.take(arr, (np.arange(c) * coeff).astype(int))"
   ]
  },
  {
   "cell_type": "code",
   "execution_count": 12,
   "metadata": {},
   "outputs": [],
   "source": [
    "def create_timeseries_df(data, c):\n",
    "    df = pd.DataFrame(index=range(len(data)), columns=range(c))\n",
    "\n",
    "    for i,l in enumerate(data):\n",
    "        df.loc[i] = create_ts_arr(l, c)\n",
    "        \n",
    "    return df"
   ]
  },
  {
   "cell_type": "code",
   "execution_count": 66,
   "metadata": {},
   "outputs": [],
   "source": [
    "def run_classifier(classifier, block_size=32, alphabet_size=32):\n",
    "    train_files, test_files, train_labels, test_labels = tts(make_file_list(folder_names), 0.8)\n",
    "    \n",
    "    rawX_train, train_y_labels = get_rawX(train_files, train_labels, block_size)\n",
    "    train_X, train_clf = get_clustered_data(rawX_train, alphabet_size)\n",
    "    \n",
    "    c = len(get_longest_arr(train_X))\n",
    "    #X_df = create_timeseries_df(train_X, c)\n",
    "    \n",
    "    classifier.fit(np.array(train_X), train_y_labels.values)\n",
    "    \n",
    "    rawX_test, test_y_labels = get_rawX(test_files, test_labels, block_size)\n",
    "    test_X, _ = get_clustered_data(rawX_test, alphabet_size, clf=train_clf)\n",
    "    #X_test_df = create_timeseries_df(test_X, c)\n",
    "    #test_X_arr = np.array(test_X)\n",
    "    \n",
    "    y_predict = classifier.predict(np.array(test_X[0:10]))\n",
    "    \n",
    "    print(y_predict)\n",
    "    print(test_y_labels.values[0:10].ravel())\n",
    "    \n",
    "    return np.equal(y_predict, test_y_labels.values[0:10].ravel()).astype(int).sum() / y_predict.shape[0]\n",
    "    \n",
    "    #classifier.fit(train_X, train_y['y'])\n",
    "    \n",
    "    #rawX_test, test_y_labels = get_rawX(test_files, test_labels, block_size)\n",
    "    #test_X, test_y, test_clf = get_clustered_data(rawX_test, test_y_labels, alphabet_size, clf=train_clf)\n",
    "    #return classifier.score(test_X, test_y)"
   ]
  },
  {
   "cell_type": "code",
   "execution_count": 68,
   "metadata": {},
   "outputs": [
    {
     "name": "stdout",
     "output_type": "stream",
     "text": [
      "[7 3]\n",
      "[7 3]\n",
      "1.0\n",
      "[4 4]\n",
      "[4 4]\n",
      "1.0\n",
      "[13  1]\n",
      "[1 1]\n",
      "0.5\n",
      "[11  3]\n",
      "[11  3]\n",
      "1.0\n",
      "[4 4]\n",
      "[4 4]\n",
      "1.0\n",
      "[12  1]\n",
      "[4 3]\n",
      "0.0\n",
      "[ 9 13]\n",
      "[ 9 13]\n",
      "1.0\n",
      "[7 1]\n",
      "[ 7 13]\n",
      "0.5\n",
      "1min 19s ± 18.1 s per loop (mean ± std. dev. of 7 runs, 1 loop each)\n"
     ]
    }
   ],
   "source": [
    "timeit(print(run_classifier(KNN_DTW(), block_size=5, alphabet_size=15)))"
   ]
  },
  {
   "cell_type": "code",
   "execution_count": 68,
   "metadata": {},
   "outputs": [
    {
     "data": {
      "text/plain": [
       "array([3, 3, 2, 2, 1])"
      ]
     },
     "execution_count": 68,
     "metadata": {},
     "output_type": "execute_result"
    }
   ],
   "source": [
    "a = np.array([3,2,1])\n",
    "b = np.array([4,5,6,7,8])\n",
    "create_ts_arr(a, len(b))"
   ]
  },
  {
   "cell_type": "code",
   "execution_count": 15,
   "metadata": {},
   "outputs": [
    {
     "ename": "NameError",
     "evalue": "name 'y_predict' is not defined",
     "output_type": "error",
     "traceback": [
      "\u001b[0;31m---------------------------------------------------------------------------\u001b[0m",
      "\u001b[0;31mNameError\u001b[0m                                 Traceback (most recent call last)",
      "\u001b[0;32m<ipython-input-15-67b1e797cccd>\u001b[0m in \u001b[0;36m<module>\u001b[0;34m()\u001b[0m\n\u001b[0;32m----> 1\u001b[0;31m \u001b[0my_predict\u001b[0m\u001b[0;34m\u001b[0m\u001b[0m\n\u001b[0m",
      "\u001b[0;31mNameError\u001b[0m: name 'y_predict' is not defined"
     ]
    }
   ],
   "source": [
    "y_predict"
   ]
  },
  {
   "cell_type": "code",
   "execution_count": null,
   "metadata": {},
   "outputs": [],
   "source": []
  }
 ],
 "metadata": {
  "kernelspec": {
   "display_name": "Python 3",
   "language": "python",
   "name": "python3"
  },
  "language_info": {
   "codemirror_mode": {
    "name": "ipython",
    "version": 3
   },
   "file_extension": ".py",
   "mimetype": "text/x-python",
   "name": "python",
   "nbconvert_exporter": "python",
   "pygments_lexer": "ipython3",
   "version": "3.6.4"
  }
 },
 "nbformat": 4,
 "nbformat_minor": 2
}
