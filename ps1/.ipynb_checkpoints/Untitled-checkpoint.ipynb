{
 "cells": [
  {
   "cell_type": "code",
   "execution_count": 1,
   "metadata": {
    "collapsed": true
   },
   "outputs": [],
   "source": [
    "import pandas as pd\n",
    "import numpy as np\n",
    "import matplotlib\n",
    "import matplotlib.pyplot as plt\n",
    "\n",
    "%matplotlib inline"
   ]
  },
  {
   "cell_type": "code",
   "execution_count": 2,
   "metadata": {
    "collapsed": true
   },
   "outputs": [],
   "source": [
    "df = pd.read_table('nuclear.txt')"
   ]
  },
  {
   "cell_type": "code",
   "execution_count": 3,
   "metadata": {
    "collapsed": false
   },
   "outputs": [
    {
     "data": {
      "text/html": [
       "<div>\n",
       "<style scoped>\n",
       "    .dataframe tbody tr th:only-of-type {\n",
       "        vertical-align: middle;\n",
       "    }\n",
       "\n",
       "    .dataframe tbody tr th {\n",
       "        vertical-align: top;\n",
       "    }\n",
       "\n",
       "    .dataframe thead th {\n",
       "        text-align: right;\n",
       "    }\n",
       "</style>\n",
       "<table border=\"1\" class=\"dataframe\">\n",
       "  <thead>\n",
       "    <tr style=\"text-align: right;\">\n",
       "      <th></th>\n",
       "      <th>Cost</th>\n",
       "      <th>MWatts</th>\n",
       "      <th>Date</th>\n",
       "    </tr>\n",
       "  </thead>\n",
       "  <tbody>\n",
       "    <tr>\n",
       "      <th>0</th>\n",
       "      <td>345.39</td>\n",
       "      <td>514</td>\n",
       "      <td>67.92</td>\n",
       "    </tr>\n",
       "    <tr>\n",
       "      <th>1</th>\n",
       "      <td>460.05</td>\n",
       "      <td>687</td>\n",
       "      <td>68.58</td>\n",
       "    </tr>\n",
       "    <tr>\n",
       "      <th>2</th>\n",
       "      <td>452.99</td>\n",
       "      <td>1065</td>\n",
       "      <td>67.33</td>\n",
       "    </tr>\n",
       "    <tr>\n",
       "      <th>3</th>\n",
       "      <td>443.22</td>\n",
       "      <td>1065</td>\n",
       "      <td>67.33</td>\n",
       "    </tr>\n",
       "    <tr>\n",
       "      <th>4</th>\n",
       "      <td>652.32</td>\n",
       "      <td>1065</td>\n",
       "      <td>68.00</td>\n",
       "    </tr>\n",
       "  </tbody>\n",
       "</table>\n",
       "</div>"
      ],
      "text/plain": [
       "     Cost  MWatts   Date\n",
       "0  345.39     514  67.92\n",
       "1  460.05     687  68.58\n",
       "2  452.99    1065  67.33\n",
       "3  443.22    1065  67.33\n",
       "4  652.32    1065  68.00"
      ]
     },
     "execution_count": 3,
     "metadata": {},
     "output_type": "execute_result"
    }
   ],
   "source": [
    "df.head()"
   ]
  },
  {
   "cell_type": "code",
   "execution_count": 4,
   "metadata": {
    "collapsed": false
   },
   "outputs": [
    {
     "data": {
      "text/plain": [
       "<matplotlib.axes._subplots.AxesSubplot at 0x7fa62127b240>"
      ]
     },
     "execution_count": 4,
     "metadata": {},
     "output_type": "execute_result"
    },
    {
     "data": {
      "image/png": "[encoded data removed]",
      "text/plain": [
       "<matplotlib.figure.Figure at 0x7fa6212bc9e8>"
      ]
     },
     "metadata": {},
     "output_type": "display_data"
    }
   ],
   "source": [
    "df.plot.scatter(x='Date', y='Cost')"
   ]
  },
  {
   "cell_type": "code",
   "execution_count": 5,
   "metadata": {
    "collapsed": false
   },
   "outputs": [
    {
     "name": "stdout",
     "output_type": "stream",
     "text": [
      "461.5603125\n",
      "170.12066957318333\n"
     ]
    }
   ],
   "source": [
    "print(df['Cost'].mean())\n",
    "print(df['Cost'].std())"
   ]
  },
  {
   "cell_type": "code",
   "execution_count": 6,
   "metadata": {
    "collapsed": false
   },
   "outputs": [
    {
     "name": "stdout",
     "output_type": "stream",
     "text": [
      "825.375\n",
      "189.35914843696938\n"
     ]
    }
   ],
   "source": [
    "print(df['MWatts'].mean())\n",
    "print(df['MWatts'].std())"
   ]
  },
  {
   "cell_type": "code",
   "execution_count": 7,
   "metadata": {
    "collapsed": true
   },
   "outputs": [],
   "source": [
    "df['cpm'] = df['Cost'] / df['MWatts']"
   ]
  },
  {
   "cell_type": "code",
   "execution_count": 8,
   "metadata": {
    "collapsed": false
   },
   "outputs": [
    {
     "data": {
      "text/html": [
       "<div>\n",
       "<style scoped>\n",
       "    .dataframe tbody tr th:only-of-type {\n",
       "        vertical-align: middle;\n",
       "    }\n",
       "\n",
       "    .dataframe tbody tr th {\n",
       "        vertical-align: top;\n",
       "    }\n",
       "\n",
       "    .dataframe thead th {\n",
       "        text-align: right;\n",
       "    }\n",
       "</style>\n",
       "<table border=\"1\" class=\"dataframe\">\n",
       "  <thead>\n",
       "    <tr style=\"text-align: right;\">\n",
       "      <th></th>\n",
       "      <th>Cost</th>\n",
       "      <th>MWatts</th>\n",
       "      <th>Date</th>\n",
       "      <th>cpm</th>\n",
       "    </tr>\n",
       "  </thead>\n",
       "  <tbody>\n",
       "    <tr>\n",
       "      <th>0</th>\n",
       "      <td>345.39</td>\n",
       "      <td>514</td>\n",
       "      <td>67.92</td>\n",
       "      <td>0.671965</td>\n",
       "    </tr>\n",
       "    <tr>\n",
       "      <th>1</th>\n",
       "      <td>460.05</td>\n",
       "      <td>687</td>\n",
       "      <td>68.58</td>\n",
       "      <td>0.669651</td>\n",
       "    </tr>\n",
       "    <tr>\n",
       "      <th>2</th>\n",
       "      <td>452.99</td>\n",
       "      <td>1065</td>\n",
       "      <td>67.33</td>\n",
       "      <td>0.425343</td>\n",
       "    </tr>\n",
       "    <tr>\n",
       "      <th>3</th>\n",
       "      <td>443.22</td>\n",
       "      <td>1065</td>\n",
       "      <td>67.33</td>\n",
       "      <td>0.416169</td>\n",
       "    </tr>\n",
       "    <tr>\n",
       "      <th>4</th>\n",
       "      <td>652.32</td>\n",
       "      <td>1065</td>\n",
       "      <td>68.00</td>\n",
       "      <td>0.612507</td>\n",
       "    </tr>\n",
       "  </tbody>\n",
       "</table>\n",
       "</div>"
      ],
      "text/plain": [
       "     Cost  MWatts   Date       cpm\n",
       "0  345.39     514  67.92  0.671965\n",
       "1  460.05     687  68.58  0.669651\n",
       "2  452.99    1065  67.33  0.425343\n",
       "3  443.22    1065  67.33  0.416169\n",
       "4  652.32    1065  68.00  0.612507"
      ]
     },
     "execution_count": 8,
     "metadata": {},
     "output_type": "execute_result"
    }
   ],
   "source": [
    "df.head()"
   ]
  },
  {
   "cell_type": "code",
   "execution_count": 89,
   "metadata": {
    "collapsed": false
   },
   "outputs": [
    {
     "data": {
      "text/plain": [
       "Text(0,0.5,'Number of power plants')"
      ]
     },
     "execution_count": 89,
     "metadata": {},
     "output_type": "execute_result"
    },
    {
     "data": {
      "image/png": "[encoded data removed]",
      "text/plain": [
       "<matplotlib.figure.Figure at 0x7fa6174d3ac8>"
      ]
     },
     "metadata": {},
     "output_type": "display_data"
    }
   ],
   "source": [
    "ax = df['cpm'].hist(figsize=(10,6))\n",
    "ax.set_xlabel('Cost per megawatt', fontsize='large')\n",
    "ax.set_ylabel('Number of power plants', fontsize='large')"
   ]
  },
  {
   "cell_type": "code",
   "execution_count": 10,
   "metadata": {
    "collapsed": true
   },
   "outputs": [],
   "source": [
    "df_12 = pd.read_table('hotdog.txt')"
   ]
  },
  {
   "cell_type": "code",
   "execution_count": 11,
   "metadata": {
    "collapsed": false
   },
   "outputs": [
    {
     "data": {
      "text/html": [
       "<div>\n",
       "<style scoped>\n",
       "    .dataframe tbody tr th:only-of-type {\n",
       "        vertical-align: middle;\n",
       "    }\n",
       "\n",
       "    .dataframe tbody tr th {\n",
       "        vertical-align: top;\n",
       "    }\n",
       "\n",
       "    .dataframe thead th {\n",
       "        text-align: right;\n",
       "    }\n",
       "</style>\n",
       "<table border=\"1\" class=\"dataframe\">\n",
       "  <thead>\n",
       "    <tr style=\"text-align: right;\">\n",
       "      <th></th>\n",
       "      <th>Type</th>\n",
       "      <th>Calories</th>\n",
       "      <th>Sodium</th>\n",
       "    </tr>\n",
       "  </thead>\n",
       "  <tbody>\n",
       "    <tr>\n",
       "      <th>0</th>\n",
       "      <td>Beef</td>\n",
       "      <td>186</td>\n",
       "      <td>495</td>\n",
       "    </tr>\n",
       "    <tr>\n",
       "      <th>1</th>\n",
       "      <td>Beef</td>\n",
       "      <td>181</td>\n",
       "      <td>477</td>\n",
       "    </tr>\n",
       "    <tr>\n",
       "      <th>2</th>\n",
       "      <td>Beef</td>\n",
       "      <td>176</td>\n",
       "      <td>425</td>\n",
       "    </tr>\n",
       "    <tr>\n",
       "      <th>3</th>\n",
       "      <td>Beef</td>\n",
       "      <td>149</td>\n",
       "      <td>322</td>\n",
       "    </tr>\n",
       "    <tr>\n",
       "      <th>4</th>\n",
       "      <td>Beef</td>\n",
       "      <td>184</td>\n",
       "      <td>482</td>\n",
       "    </tr>\n",
       "  </tbody>\n",
       "</table>\n",
       "</div>"
      ],
      "text/plain": [
       "   Type  Calories  Sodium\n",
       "0  Beef       186     495\n",
       "1  Beef       181     477\n",
       "2  Beef       176     425\n",
       "3  Beef       149     322\n",
       "4  Beef       184     482"
      ]
     },
     "execution_count": 11,
     "metadata": {},
     "output_type": "execute_result"
    }
   ],
   "source": [
    "df_12.head()"
   ]
  },
  {
   "cell_type": "code",
   "execution_count": 12,
   "metadata": {
    "collapsed": true
   },
   "outputs": [],
   "source": [
    "grps_12 = df_12.groupby(['Type'])"
   ]
  },
  {
   "cell_type": "code",
   "execution_count": 13,
   "metadata": {
    "collapsed": false
   },
   "outputs": [
    {
     "name": "stdout",
     "output_type": "stream",
     "text": [
      "156.85\n",
      "22.642008000965582\n",
      "158.7058823529412\n",
      "25.235799734410914\n",
      "118.76470588235294\n",
      "22.551411850937143\n",
      "-------------\n",
      "401.15\n",
      "102.43471605189121\n",
      "418.52941176470586\n",
      "93.8723319508062\n",
      "459.0\n",
      "84.73930610997472\n"
     ]
    }
   ],
   "source": [
    "print(grps_12.get_group('Beef')['Calories'].mean())\n",
    "print(grps_12.get_group('Beef')['Calories'].std())\n",
    "print(grps_12.get_group('Meat')['Calories'].mean())\n",
    "print(grps_12.get_group('Meat')['Calories'].std())\n",
    "print(grps_12.get_group('Poultry')['Calories'].mean())\n",
    "print(grps_12.get_group('Poultry')['Calories'].std())\n",
    "print('-------------')\n",
    "print(grps_12.get_group('Beef')['Sodium'].mean())\n",
    "print(grps_12.get_group('Beef')['Sodium'].std())\n",
    "print(grps_12.get_group('Meat')['Sodium'].mean())\n",
    "print(grps_12.get_group('Meat')['Sodium'].std())\n",
    "print(grps_12.get_group('Poultry')['Sodium'].mean())\n",
    "print(grps_12.get_group('Poultry')['Sodium'].std())"
   ]
  },
  {
   "cell_type": "code",
   "execution_count": 14,
   "metadata": {
    "collapsed": false
   },
   "outputs": [
    {
     "name": "stdout",
     "output_type": "stream",
     "text": [
      "Beef\n",
      "Meat\n",
      "Poultry\n"
     ]
    },
    {
     "data": {
      "image/png": "[encoded data removed]",
      "text/plain": [
       "<matplotlib.figure.Figure at 0x7fa61f20c668>"
      ]
     },
     "metadata": {},
     "output_type": "display_data"
    },
    {
     "data": {
      "image/png": "[encoded data removed]",
      "text/plain": [
       "<matplotlib.figure.Figure at 0x7fa61f0573c8>"
      ]
     },
     "metadata": {},
     "output_type": "display_data"
    },
    {
     "data": {
      "image/png": "[encoded data removed]",
      "text/plain": [
       "<matplotlib.figure.Figure at 0x7fa61eff7208>"
      ]
     },
     "metadata": {},
     "output_type": "display_data"
    }
   ],
   "source": [
    "for g in grps_12.groups:\n",
    "    print(g)\n",
    "    grps_12.get_group(g).hist()"
   ]
  },
  {
   "cell_type": "code",
   "execution_count": 15,
   "metadata": {
    "collapsed": true
   },
   "outputs": [],
   "source": [
    "df_13 = pd.read_table('magazine.txt')"
   ]
  },
  {
   "cell_type": "code",
   "execution_count": 16,
   "metadata": {
    "collapsed": false
   },
   "outputs": [
    {
     "data": {
      "text/html": [
       "<div>\n",
       "<style scoped>\n",
       "    .dataframe tbody tr th:only-of-type {\n",
       "        vertical-align: middle;\n",
       "    }\n",
       "\n",
       "    .dataframe tbody tr th {\n",
       "        vertical-align: top;\n",
       "    }\n",
       "\n",
       "    .dataframe thead th {\n",
       "        text-align: right;\n",
       "    }\n",
       "</style>\n",
       "<table border=\"1\" class=\"dataframe\">\n",
       "  <thead>\n",
       "    <tr style=\"text-align: right;\">\n",
       "      <th></th>\n",
       "      <th>WDS</th>\n",
       "      <th>SEN</th>\n",
       "      <th>3SYL</th>\n",
       "      <th>MAG</th>\n",
       "      <th>GROUP</th>\n",
       "    </tr>\n",
       "  </thead>\n",
       "  <tbody>\n",
       "    <tr>\n",
       "      <th>0</th>\n",
       "      <td>205</td>\n",
       "      <td>9</td>\n",
       "      <td>34</td>\n",
       "      <td>1</td>\n",
       "      <td>1</td>\n",
       "    </tr>\n",
       "    <tr>\n",
       "      <th>1</th>\n",
       "      <td>203</td>\n",
       "      <td>20</td>\n",
       "      <td>21</td>\n",
       "      <td>1</td>\n",
       "      <td>1</td>\n",
       "    </tr>\n",
       "    <tr>\n",
       "      <th>2</th>\n",
       "      <td>229</td>\n",
       "      <td>18</td>\n",
       "      <td>37</td>\n",
       "      <td>1</td>\n",
       "      <td>1</td>\n",
       "    </tr>\n",
       "    <tr>\n",
       "      <th>3</th>\n",
       "      <td>208</td>\n",
       "      <td>16</td>\n",
       "      <td>31</td>\n",
       "      <td>1</td>\n",
       "      <td>1</td>\n",
       "    </tr>\n",
       "    <tr>\n",
       "      <th>4</th>\n",
       "      <td>146</td>\n",
       "      <td>9</td>\n",
       "      <td>10</td>\n",
       "      <td>1</td>\n",
       "      <td>1</td>\n",
       "    </tr>\n",
       "  </tbody>\n",
       "</table>\n",
       "</div>"
      ],
      "text/plain": [
       "   WDS  SEN  3SYL  MAG  GROUP\n",
       "0  205    9    34    1      1\n",
       "1  203   20    21    1      1\n",
       "2  229   18    37    1      1\n",
       "3  208   16    31    1      1\n",
       "4  146    9    10    1      1"
      ]
     },
     "execution_count": 16,
     "metadata": {},
     "output_type": "execute_result"
    }
   ],
   "source": [
    "df_13.head()"
   ]
  },
  {
   "cell_type": "code",
   "execution_count": 17,
   "metadata": {
    "collapsed": false
   },
   "outputs": [
    {
     "data": {
      "text/plain": [
       "<matplotlib.axes._subplots.AxesSubplot at 0x7fa61eec2b00>"
      ]
     },
     "execution_count": 17,
     "metadata": {},
     "output_type": "execute_result"
    },
    {
     "data": {
      "image/png": "[encoded data removed]",
      "text/plain": [
       "<matplotlib.figure.Figure at 0x7fa61eebbbe0>"
      ]
     },
     "metadata": {},
     "output_type": "display_data"
    }
   ],
   "source": [
    "df_13.boxplot(column='3SYL', by='GROUP')"
   ]
  },
  {
   "cell_type": "code",
   "execution_count": 18,
   "metadata": {
    "collapsed": false
   },
   "outputs": [
    {
     "data": {
      "text/plain": [
       "<matplotlib.axes._subplots.AxesSubplot at 0x7fa61ef9ee48>"
      ]
     },
     "execution_count": 18,
     "metadata": {},
     "output_type": "execute_result"
    },
    {
     "data": {
      "image/png": "[encoded data removed]",
      "text/plain": [
       "<matplotlib.figure.Figure at 0x7fa61ef34e10>"
      ]
     },
     "metadata": {},
     "output_type": "display_data"
    }
   ],
   "source": [
    "df_13.boxplot(column='SEN', by='GROUP')"
   ]
  },
  {
   "cell_type": "code",
   "execution_count": 19,
   "metadata": {
    "collapsed": true
   },
   "outputs": [],
   "source": [
    "df_math = pd.read_csv('student-mat.csv', sep=';')"
   ]
  },
  {
   "cell_type": "code",
   "execution_count": 20,
   "metadata": {
    "collapsed": true
   },
   "outputs": [],
   "source": [
    "df_port = pd.read_csv('student-por.csv', sep=';')"
   ]
  },
  {
   "cell_type": "code",
   "execution_count": 21,
   "metadata": {
    "collapsed": false
   },
   "outputs": [
    {
     "name": "stdout",
     "output_type": "stream",
     "text": [
      "  school sex  age address famsize Pstatus  Medu  Fedu     Mjob      Fjob ...  \\\n",
      "0     GP   F   18       U     GT3       A     4     4  at_home   teacher ...   \n",
      "1     GP   F   17       U     GT3       T     1     1  at_home     other ...   \n",
      "2     GP   F   15       U     LE3       T     1     1  at_home     other ...   \n",
      "3     GP   F   15       U     GT3       T     4     2   health  services ...   \n",
      "4     GP   F   16       U     GT3       T     3     3    other     other ...   \n",
      "\n",
      "  famrel freetime  goout  Dalc  Walc health absences  G1  G2  G3  \n",
      "0      4        3      4     1     1      3        6   5   6   6  \n",
      "1      5        3      3     1     1      3        4   5   5   6  \n",
      "2      4        3      2     2     3      3       10   7   8  10  \n",
      "3      3        2      2     1     1      5        2  15  14  15  \n",
      "4      4        3      2     1     2      5        4   6  10  10  \n",
      "\n",
      "[5 rows x 33 columns]\n",
      "  school sex  age address famsize Pstatus  Medu  Fedu     Mjob      Fjob ...  \\\n",
      "0     GP   F   18       U     GT3       A     4     4  at_home   teacher ...   \n",
      "1     GP   F   17       U     GT3       T     1     1  at_home     other ...   \n",
      "2     GP   F   15       U     LE3       T     1     1  at_home     other ...   \n",
      "3     GP   F   15       U     GT3       T     4     2   health  services ...   \n",
      "4     GP   F   16       U     GT3       T     3     3    other     other ...   \n",
      "\n",
      "  famrel freetime  goout  Dalc  Walc health absences  G1  G2  G3  \n",
      "0      4        3      4     1     1      3        4   0  11  11  \n",
      "1      5        3      3     1     1      3        2   9  11  11  \n",
      "2      4        3      2     2     3      3        6  12  13  12  \n",
      "3      3        2      2     1     1      5        0  14  14  14  \n",
      "4      4        3      2     1     2      5        0  11  13  13  \n",
      "\n",
      "[5 rows x 33 columns]\n"
     ]
    }
   ],
   "source": [
    "print(df_math.head())\n",
    "print(df_port.head())"
   ]
  },
  {
   "cell_type": "code",
   "execution_count": 22,
   "metadata": {
    "collapsed": false
   },
   "outputs": [
    {
     "data": {
      "text/plain": [
       "<matplotlib.axes._subplots.AxesSubplot at 0x7fa61eff7c50>"
      ]
     },
     "execution_count": 22,
     "metadata": {},
     "output_type": "execute_result"
    },
    {
     "data": {
      "image/png": "[encoded data removed]",
      "text/plain": [
       "<matplotlib.figure.Figure at 0x7fa61f1369b0>"
      ]
     },
     "metadata": {},
     "output_type": "display_data"
    }
   ],
   "source": [
    "df_math['Dalc'].hist()"
   ]
  },
  {
   "cell_type": "code",
   "execution_count": 23,
   "metadata": {
    "collapsed": false
   },
   "outputs": [
    {
     "data": {
      "text/plain": [
       "<matplotlib.axes._subplots.AxesSubplot at 0x7fa61f06cbe0>"
      ]
     },
     "execution_count": 23,
     "metadata": {},
     "output_type": "execute_result"
    },
    {
     "data": {
      "image/png": "[encoded data removed]",
      "text/plain": [
       "<matplotlib.figure.Figure at 0x7fa61f0fe0b8>"
      ]
     },
     "metadata": {},
     "output_type": "display_data"
    }
   ],
   "source": [
    "df_port['Dalc'].hist()"
   ]
  },
  {
   "cell_type": "code",
   "execution_count": 24,
   "metadata": {
    "collapsed": false
   },
   "outputs": [
    {
     "data": {
      "text/plain": [
       "0.1    1.0\n",
       "0.2    1.0\n",
       "0.3    1.0\n",
       "0.4    1.0\n",
       "0.5    1.0\n",
       "0.6    1.0\n",
       "0.7    1.8\n",
       "0.8    2.0\n",
       "0.9    3.0\n",
       "Name: Dalc, dtype: float64"
      ]
     },
     "execution_count": 24,
     "metadata": {},
     "output_type": "execute_result"
    }
   ],
   "source": [
    "df_math['Dalc'].quantile([.1, .2, .3, .4, .5, .6, .7, .8, .9])"
   ]
  },
  {
   "cell_type": "code",
   "execution_count": 25,
   "metadata": {
    "collapsed": false
   },
   "outputs": [
    {
     "data": {
      "text/plain": [
       "0.1    1.0\n",
       "0.2    1.0\n",
       "0.3    1.0\n",
       "0.4    1.0\n",
       "0.5    1.0\n",
       "0.6    1.0\n",
       "0.7    2.0\n",
       "0.8    2.0\n",
       "0.9    3.0\n",
       "Name: Dalc, dtype: float64"
      ]
     },
     "execution_count": 25,
     "metadata": {},
     "output_type": "execute_result"
    }
   ],
   "source": [
    "df_port['Dalc'].quantile([.1, .2, .3, .4, .5, .6, .7, .8, .9])"
   ]
  },
  {
   "cell_type": "code",
   "execution_count": 26,
   "metadata": {
    "collapsed": true
   },
   "outputs": [],
   "source": [
    "df_all = df_math.append(df_port)"
   ]
  },
  {
   "cell_type": "code",
   "execution_count": 27,
   "metadata": {
    "collapsed": false
   },
   "outputs": [
    {
     "name": "stdout",
     "output_type": "stream",
     "text": [
      "(395, 33)\n",
      "(649, 33)\n",
      "(1044, 33)\n"
     ]
    }
   ],
   "source": [
    "print(df_math.shape)\n",
    "print(df_port.shape)\n",
    "print(df_all.shape)"
   ]
  },
  {
   "cell_type": "code",
   "execution_count": 28,
   "metadata": {
    "collapsed": false
   },
   "outputs": [],
   "source": [
    "all_grps = df_all.groupby('famsize')"
   ]
  },
  {
   "cell_type": "code",
   "execution_count": 29,
   "metadata": {
    "collapsed": false
   },
   "outputs": [
    {
     "data": {
      "text/plain": [
       "{'GT3': Int64Index([  0,   1,   3,   4,   7,   9,  10,  11,  13,  14,\n",
       "             ...\n",
       "             636, 637, 638, 639, 640, 641, 642, 643, 644, 646],\n",
       "            dtype='int64', length=738),\n",
       " 'LE3': Int64Index([  2,   5,   6,   8,  12,  19,  22,  23,  28,  33,\n",
       "             ...\n",
       "             617, 618, 620, 623, 627, 630, 633, 645, 647, 648],\n",
       "            dtype='int64', length=306)}"
      ]
     },
     "execution_count": 29,
     "metadata": {},
     "output_type": "execute_result"
    }
   ],
   "source": [
    "all_grps.groups"
   ]
  },
  {
   "cell_type": "code",
   "execution_count": 30,
   "metadata": {
    "collapsed": false
   },
   "outputs": [
    {
     "data": {
      "text/plain": [
       "<matplotlib.axes._subplots.AxesSubplot at 0x7fa61efd3d30>"
      ]
     },
     "execution_count": 30,
     "metadata": {},
     "output_type": "execute_result"
    },
    {
     "data": {
      "image/png": "[encoded data removed]",
      "text/plain": [
       "<matplotlib.figure.Figure at 0x7fa61eef07b8>"
      ]
     },
     "metadata": {},
     "output_type": "display_data"
    }
   ],
   "source": [
    "all_grps.get_group('LE3')['Walc'].hist()"
   ]
  },
  {
   "cell_type": "code",
   "execution_count": 31,
   "metadata": {
    "collapsed": false
   },
   "outputs": [
    {
     "data": {
      "text/plain": [
       "<matplotlib.axes._subplots.AxesSubplot at 0x7fa61ef77b70>"
      ]
     },
     "execution_count": 31,
     "metadata": {},
     "output_type": "execute_result"
    },
    {
     "data": {
      "image/png": "[encoded data removed]",
      "text/plain": [
       "<matplotlib.figure.Figure at 0x7fa61f0311d0>"
      ]
     },
     "metadata": {},
     "output_type": "display_data"
    }
   ],
   "source": [
    "all_grps.get_group('GT3')['Walc'].hist()"
   ]
  },
  {
   "cell_type": "code",
   "execution_count": 32,
   "metadata": {
    "collapsed": false
   },
   "outputs": [
    {
     "data": {
      "text/plain": [
       "0.1    1.0\n",
       "0.2    1.0\n",
       "0.3    1.0\n",
       "0.4    2.0\n",
       "0.5    2.0\n",
       "0.6    3.0\n",
       "0.7    3.0\n",
       "0.8    4.0\n",
       "0.9    4.0\n",
       "Name: Walc, dtype: float64"
      ]
     },
     "execution_count": 32,
     "metadata": {},
     "output_type": "execute_result"
    }
   ],
   "source": [
    "all_grps.get_group('LE3')['Walc'].quantile([.1, .2, .3, .4, .5, .6, .7, .8, .9])"
   ]
  },
  {
   "cell_type": "code",
   "execution_count": 33,
   "metadata": {
    "collapsed": false
   },
   "outputs": [
    {
     "data": {
      "text/plain": [
       "0.1    1.0\n",
       "0.2    1.0\n",
       "0.3    1.0\n",
       "0.4    1.0\n",
       "0.5    2.0\n",
       "0.6    2.0\n",
       "0.7    3.0\n",
       "0.8    3.0\n",
       "0.9    4.0\n",
       "Name: Walc, dtype: float64"
      ]
     },
     "execution_count": 33,
     "metadata": {},
     "output_type": "execute_result"
    }
   ],
   "source": [
    "all_grps.get_group('GT3')['Walc'].quantile([.1, .2, .3, .4, .5, .6, .7, .8, .9])"
   ]
  },
  {
   "cell_type": "code",
   "execution_count": 38,
   "metadata": {
    "collapsed": false
   },
   "outputs": [
    {
     "data": {
      "text/html": [
       "<div>\n",
       "<style scoped>\n",
       "    .dataframe tbody tr th:only-of-type {\n",
       "        vertical-align: middle;\n",
       "    }\n",
       "\n",
       "    .dataframe tbody tr th {\n",
       "        vertical-align: top;\n",
       "    }\n",
       "\n",
       "    .dataframe thead th {\n",
       "        text-align: right;\n",
       "    }\n",
       "</style>\n",
       "<table border=\"1\" class=\"dataframe\">\n",
       "  <thead>\n",
       "    <tr style=\"text-align: right;\">\n",
       "      <th></th>\n",
       "      <th>school</th>\n",
       "      <th>sex</th>\n",
       "      <th>age</th>\n",
       "      <th>address</th>\n",
       "      <th>famsize</th>\n",
       "      <th>Pstatus</th>\n",
       "      <th>Medu</th>\n",
       "      <th>Fedu</th>\n",
       "      <th>Mjob</th>\n",
       "      <th>Fjob</th>\n",
       "      <th>...</th>\n",
       "      <th>freetime</th>\n",
       "      <th>goout</th>\n",
       "      <th>Dalc</th>\n",
       "      <th>Walc</th>\n",
       "      <th>health</th>\n",
       "      <th>absences</th>\n",
       "      <th>G1</th>\n",
       "      <th>G2</th>\n",
       "      <th>G3</th>\n",
       "      <th>total_alc</th>\n",
       "    </tr>\n",
       "  </thead>\n",
       "  <tbody>\n",
       "    <tr>\n",
       "      <th>0</th>\n",
       "      <td>GP</td>\n",
       "      <td>F</td>\n",
       "      <td>18</td>\n",
       "      <td>U</td>\n",
       "      <td>GT3</td>\n",
       "      <td>A</td>\n",
       "      <td>4</td>\n",
       "      <td>4</td>\n",
       "      <td>at_home</td>\n",
       "      <td>teacher</td>\n",
       "      <td>...</td>\n",
       "      <td>3</td>\n",
       "      <td>4</td>\n",
       "      <td>1</td>\n",
       "      <td>1</td>\n",
       "      <td>3</td>\n",
       "      <td>6</td>\n",
       "      <td>5</td>\n",
       "      <td>6</td>\n",
       "      <td>6</td>\n",
       "      <td>1.000000</td>\n",
       "    </tr>\n",
       "    <tr>\n",
       "      <th>1</th>\n",
       "      <td>GP</td>\n",
       "      <td>F</td>\n",
       "      <td>17</td>\n",
       "      <td>U</td>\n",
       "      <td>GT3</td>\n",
       "      <td>T</td>\n",
       "      <td>1</td>\n",
       "      <td>1</td>\n",
       "      <td>at_home</td>\n",
       "      <td>other</td>\n",
       "      <td>...</td>\n",
       "      <td>3</td>\n",
       "      <td>3</td>\n",
       "      <td>1</td>\n",
       "      <td>1</td>\n",
       "      <td>3</td>\n",
       "      <td>4</td>\n",
       "      <td>5</td>\n",
       "      <td>5</td>\n",
       "      <td>6</td>\n",
       "      <td>1.000000</td>\n",
       "    </tr>\n",
       "    <tr>\n",
       "      <th>2</th>\n",
       "      <td>GP</td>\n",
       "      <td>F</td>\n",
       "      <td>15</td>\n",
       "      <td>U</td>\n",
       "      <td>LE3</td>\n",
       "      <td>T</td>\n",
       "      <td>1</td>\n",
       "      <td>1</td>\n",
       "      <td>at_home</td>\n",
       "      <td>other</td>\n",
       "      <td>...</td>\n",
       "      <td>3</td>\n",
       "      <td>2</td>\n",
       "      <td>2</td>\n",
       "      <td>3</td>\n",
       "      <td>3</td>\n",
       "      <td>10</td>\n",
       "      <td>7</td>\n",
       "      <td>8</td>\n",
       "      <td>10</td>\n",
       "      <td>2.285714</td>\n",
       "    </tr>\n",
       "    <tr>\n",
       "      <th>3</th>\n",
       "      <td>GP</td>\n",
       "      <td>F</td>\n",
       "      <td>15</td>\n",
       "      <td>U</td>\n",
       "      <td>GT3</td>\n",
       "      <td>T</td>\n",
       "      <td>4</td>\n",
       "      <td>2</td>\n",
       "      <td>health</td>\n",
       "      <td>services</td>\n",
       "      <td>...</td>\n",
       "      <td>2</td>\n",
       "      <td>2</td>\n",
       "      <td>1</td>\n",
       "      <td>1</td>\n",
       "      <td>5</td>\n",
       "      <td>2</td>\n",
       "      <td>15</td>\n",
       "      <td>14</td>\n",
       "      <td>15</td>\n",
       "      <td>1.000000</td>\n",
       "    </tr>\n",
       "    <tr>\n",
       "      <th>4</th>\n",
       "      <td>GP</td>\n",
       "      <td>F</td>\n",
       "      <td>16</td>\n",
       "      <td>U</td>\n",
       "      <td>GT3</td>\n",
       "      <td>T</td>\n",
       "      <td>3</td>\n",
       "      <td>3</td>\n",
       "      <td>other</td>\n",
       "      <td>other</td>\n",
       "      <td>...</td>\n",
       "      <td>3</td>\n",
       "      <td>2</td>\n",
       "      <td>1</td>\n",
       "      <td>2</td>\n",
       "      <td>5</td>\n",
       "      <td>4</td>\n",
       "      <td>6</td>\n",
       "      <td>10</td>\n",
       "      <td>10</td>\n",
       "      <td>1.285714</td>\n",
       "    </tr>\n",
       "  </tbody>\n",
       "</table>\n",
       "<p>5 rows × 34 columns</p>\n",
       "</div>"
      ],
      "text/plain": [
       "  school sex  age address famsize Pstatus  Medu  Fedu     Mjob      Fjob  \\\n",
       "0     GP   F   18       U     GT3       A     4     4  at_home   teacher   \n",
       "1     GP   F   17       U     GT3       T     1     1  at_home     other   \n",
       "2     GP   F   15       U     LE3       T     1     1  at_home     other   \n",
       "3     GP   F   15       U     GT3       T     4     2   health  services   \n",
       "4     GP   F   16       U     GT3       T     3     3    other     other   \n",
       "\n",
       "     ...    freetime goout  Dalc  Walc  health absences  G1  G2  G3 total_alc  \n",
       "0    ...           3     4     1     1       3        6   5   6   6  1.000000  \n",
       "1    ...           3     3     1     1       3        4   5   5   6  1.000000  \n",
       "2    ...           3     2     2     3       3       10   7   8  10  2.285714  \n",
       "3    ...           2     2     1     1       5        2  15  14  15  1.000000  \n",
       "4    ...           3     2     1     2       5        4   6  10  10  1.285714  \n",
       "\n",
       "[5 rows x 34 columns]"
      ]
     },
     "execution_count": 38,
     "metadata": {},
     "output_type": "execute_result"
    }
   ],
   "source": [
    "df_all['total_alc'] = (df_all['Walc'] * (2/7)) + (df_all['Dalc'] * (5/7))\n",
    "df_all.head()"
   ]
  },
  {
   "cell_type": "code",
   "execution_count": 39,
   "metadata": {
    "collapsed": true
   },
   "outputs": [],
   "source": [
    "all4_groups = df_all.groupby(['school', 'sex', 'famsize', 'romantic'])"
   ]
  },
  {
   "cell_type": "code",
   "execution_count": 40,
   "metadata": {
    "collapsed": false,
    "scrolled": true
   },
   "outputs": [
    {
     "data": {
      "text/plain": [
       "{('GP',\n",
       "  'F',\n",
       "  'GT3',\n",
       "  'no'): Int64Index([  0,   1,   4,   7,  10,  11,  15,  16,  17,  24,\n",
       "             ...\n",
       "             376, 380, 382, 388, 390, 391, 394, 398, 404, 410],\n",
       "            dtype='int64', length=198),\n",
       " ('GP',\n",
       "  'F',\n",
       "  'GT3',\n",
       "  'yes'): Int64Index([  3,  55,  61,  72,  77,  85,  90,  97, 124, 130,\n",
       "             ...\n",
       "             397, 399, 402, 403, 406, 414, 415, 417, 421, 422],\n",
       "            dtype='int64', length=119),\n",
       " ('GP',\n",
       "  'F',\n",
       "  'LE3',\n",
       "  'no'): Int64Index([  2,  44,  46,  50,  51,  54,  62,  65,  68,  69,  82,  86,  92,\n",
       "             143, 174, 199, 214, 215, 256, 272, 282, 293, 309, 322, 324, 338,\n",
       "               2,  44,  46,  50,  51,  54,  62,  65,  68,  69,  82,  86,  92,\n",
       "             132, 154, 188, 213, 228, 229, 253, 262, 264, 265, 266, 289, 293,\n",
       "             313, 327, 338, 358, 366, 367, 373, 375, 393, 405, 407, 412, 420],\n",
       "            dtype='int64'),\n",
       " ('GP',\n",
       "  'F',\n",
       "  'LE3',\n",
       "  'yes'): Int64Index([ 40,  45,  64, 109, 122, 126, 132, 183, 195, 230, 259, 275, 292,\n",
       "             297, 300, 310, 313, 333,  40,  45,  64, 109, 122, 126, 134, 157,\n",
       "             197, 209, 244, 254, 259, 288, 298, 317, 342, 345, 370, 389],\n",
       "            dtype='int64'),\n",
       " ('GP',\n",
       "  'M',\n",
       "  'GT3',\n",
       "  'no'): Int64Index([  9,  13,  18,  20,  21,  26,  27,  30,  31,  34,\n",
       "             ...\n",
       "             334, 340, 351, 377, 378, 379, 387, 395, 418, 419],\n",
       "            dtype='int64', length=169),\n",
       " ('GP',\n",
       "  'M',\n",
       "  'GT3',\n",
       "  'yes'): Int64Index([ 14,  29,  32,  37,  66,  80, 101, 108, 114, 134, 148, 153, 159,\n",
       "             161, 171, 178, 179, 181, 185, 186, 232, 235, 247, 266, 268, 273,\n",
       "             290, 304, 307, 308, 346, 347,  14,  29,  32,  37,  66,  80, 101,\n",
       "             108, 114, 129, 138, 161, 166, 172, 175, 185, 192, 193, 195, 199,\n",
       "             200, 246, 249, 256, 272, 279, 307, 309, 314, 336, 352, 361, 384,\n",
       "             400, 401],\n",
       "            dtype='int64'),\n",
       " ('GP',\n",
       "  'M',\n",
       "  'LE3',\n",
       "  'no'): Int64Index([  5,   6,   8,  12,  19,  22,  23,  28,  33,  36,  52,  58,  83,\n",
       "              89,  94, 110, 113, 141, 149, 156, 162, 172, 175, 197, 217, 227,\n",
       "             234, 241, 242, 255, 257, 265, 279, 281, 289, 294, 301, 330,   5,\n",
       "               6,   8,  12,  19,  22,  23,  28,  33,  36,  52,  58,  83,  89,\n",
       "              94, 110, 113, 152, 162, 169, 173, 176, 186, 189, 211, 231, 241,\n",
       "             248, 268, 269, 287, 291, 295, 306, 323, 326, 335, 339, 346, 368,\n",
       "             383, 408, 411, 416],\n",
       "            dtype='int64'),\n",
       " ('GP',\n",
       "  'M',\n",
       "  'LE3',\n",
       "  'yes'): Int64Index([ 41, 138, 150, 151, 160, 164, 187, 211, 228, 236, 240, 248, 280,\n",
       "             299, 342,  41, 142, 146, 163, 164, 174, 178, 201, 225, 242, 250,\n",
       "             267, 280, 325, 344, 350, 396, 409, 413],\n",
       "            dtype='int64'),\n",
       " ('MS',\n",
       "  'F',\n",
       "  'GT3',\n",
       "  'no'): Int64Index([356, 364, 373, 375, 379, 385, 387, 389, 424, 426, 427, 432, 437,\n",
       "             438, 439, 449, 450, 452, 453, 454, 455, 458, 459, 460, 462, 467,\n",
       "             471, 475, 478, 479, 483, 485, 486, 493, 498, 503, 510, 513, 514,\n",
       "             518, 521, 528, 541, 546, 549, 573, 575, 581, 584, 586, 591, 592,\n",
       "             594, 596, 604, 605, 609, 614, 621, 629, 631, 635, 641, 642, 644,\n",
       "             646],\n",
       "            dtype='int64'),\n",
       " ('MS',\n",
       "  'F',\n",
       "  'GT3',\n",
       "  'yes'): Int64Index([355, 362, 367, 368, 369, 372, 376, 378, 386, 423, 425, 431, 433,\n",
       "             448, 456, 461, 465, 470, 480, 481, 488, 490, 491, 492, 495, 499,\n",
       "             505, 506, 511, 512, 516, 522, 526, 540, 542, 548, 554, 555, 557,\n",
       "             572, 583, 588, 590, 597, 601, 606, 610, 611, 613, 619, 624, 625,\n",
       "             626, 628, 632, 634, 643],\n",
       "            dtype='int64'),\n",
       " ('MS',\n",
       "  'F',\n",
       "  'LE3',\n",
       "  'no'): Int64Index([359, 374, 377, 388, 428, 435, 463, 484, 494, 509, 515, 517, 520,\n",
       "             524, 529, 539, 582, 585, 587, 589, 593, 617, 630, 633, 645],\n",
       "            dtype='int64'),\n",
       " ('MS',\n",
       "  'F',\n",
       "  'LE3',\n",
       "  'yes'): Int64Index([357, 360, 363, 370, 434, 436, 472, 476, 482, 487, 496, 504, 507,\n",
       "             533, 538, 562, 602, 603, 607, 608, 615, 618, 620],\n",
       "            dtype='int64'),\n",
       " ('MS',\n",
       "  'M',\n",
       "  'GT3',\n",
       "  'no'): Int64Index([349, 350, 351, 353, 365, 380, 382, 383, 384, 392, 430, 441, 444,\n",
       "             451, 464, 466, 468, 477, 489, 497, 508, 519, 530, 535, 551, 552,\n",
       "             559, 564, 567, 568, 569, 576, 577, 578, 580, 600, 622, 636, 638,\n",
       "             639, 640],\n",
       "            dtype='int64'),\n",
       " ('MS',\n",
       "  'M',\n",
       "  'GT3',\n",
       "  'yes'): Int64Index([354, 381, 440, 445, 447, 469, 500, 531, 532, 543, 545, 558, 560,\n",
       "             563, 566, 570, 571, 574, 599, 612, 637],\n",
       "            dtype='int64'),\n",
       " ('MS',\n",
       "  'M',\n",
       "  'LE3',\n",
       "  'no'): Int64Index([361, 390, 391, 393, 394, 429, 442, 443, 446, 457, 473, 474, 501,\n",
       "             502, 525, 527, 534, 536, 537, 547, 556, 561, 565, 595, 598, 647,\n",
       "             648],\n",
       "            dtype='int64'),\n",
       " ('MS',\n",
       "  'M',\n",
       "  'LE3',\n",
       "  'yes'): Int64Index([352, 358, 366, 371, 523, 544, 550, 553, 579, 616, 623, 627], dtype='int64')}"
      ]
     },
     "execution_count": 40,
     "metadata": {},
     "output_type": "execute_result"
    }
   ],
   "source": [
    "all4_groups.groups"
   ]
  },
  {
   "cell_type": "code",
   "execution_count": 63,
   "metadata": {
    "collapsed": false,
    "scrolled": false
   },
   "outputs": [
    {
     "data": {
      "text/plain": [
       "(array([ 1,  2,  3,  4,  5,  6,  7,  8,  9, 10, 11, 12, 13, 14, 15, 16]),\n",
       " <a list of 16 Text xticklabel objects>)"
      ]
     },
     "execution_count": 63,
     "metadata": {},
     "output_type": "execute_result"
    },
    {
     "data": {
      "image/png": "[encoded data removed]",
      "text/plain": [
       "<matplotlib.figure.Figure at 0x7fa617bc0ba8>"
      ]
     },
     "metadata": {},
     "output_type": "display_data"
    }
   ],
   "source": [
    "df_all.boxplot(column='total_alc', by=['school', 'sex', 'famsize', 'romantic'], figsize=(10,8))\n",
    "plt.xticks(rotation=60)"
   ]
  },
  {
   "cell_type": "code",
   "execution_count": 73,
   "metadata": {
    "collapsed": false
   },
   "outputs": [],
   "source": [
    "df_10 = pd.read_table('oil.txt', index_col='Year')"
   ]
  },
  {
   "cell_type": "code",
   "execution_count": 74,
   "metadata": {
    "collapsed": false
   },
   "outputs": [
    {
     "data": {
      "text/html": [
       "<div>\n",
       "<style scoped>\n",
       "    .dataframe tbody tr th:only-of-type {\n",
       "        vertical-align: middle;\n",
       "    }\n",
       "\n",
       "    .dataframe tbody tr th {\n",
       "        vertical-align: top;\n",
       "    }\n",
       "\n",
       "    .dataframe thead th {\n",
       "        text-align: right;\n",
       "    }\n",
       "</style>\n",
       "<table border=\"1\" class=\"dataframe\">\n",
       "  <thead>\n",
       "    <tr style=\"text-align: right;\">\n",
       "      <th></th>\n",
       "      <th>Mbbl</th>\n",
       "    </tr>\n",
       "    <tr>\n",
       "      <th>Year</th>\n",
       "      <th></th>\n",
       "    </tr>\n",
       "  </thead>\n",
       "  <tbody>\n",
       "    <tr>\n",
       "      <th>1880</th>\n",
       "      <td>30</td>\n",
       "    </tr>\n",
       "    <tr>\n",
       "      <th>1890</th>\n",
       "      <td>77</td>\n",
       "    </tr>\n",
       "    <tr>\n",
       "      <th>1900</th>\n",
       "      <td>149</td>\n",
       "    </tr>\n",
       "    <tr>\n",
       "      <th>1905</th>\n",
       "      <td>215</td>\n",
       "    </tr>\n",
       "    <tr>\n",
       "      <th>1910</th>\n",
       "      <td>328</td>\n",
       "    </tr>\n",
       "  </tbody>\n",
       "</table>\n",
       "</div>"
      ],
      "text/plain": [
       "      Mbbl\n",
       "Year      \n",
       "1880    30\n",
       "1890    77\n",
       "1900   149\n",
       "1905   215\n",
       "1910   328"
      ]
     },
     "execution_count": 74,
     "metadata": {},
     "output_type": "execute_result"
    }
   ],
   "source": [
    "df_10.head()"
   ]
  },
  {
   "cell_type": "code",
   "execution_count": 78,
   "metadata": {
    "collapsed": false
   },
   "outputs": [
    {
     "data": {
      "text/plain": [
       "<matplotlib.axes._subplots.AxesSubplot at 0x7fa617913da0>"
      ]
     },
     "execution_count": 78,
     "metadata": {},
     "output_type": "execute_result"
    },
    {
     "data": {
      "image/png": "[encoded data removed]",
      "text/plain": [
       "<matplotlib.figure.Figure at 0x7fa6179bdac8>"
      ]
     },
     "metadata": {},
     "output_type": "display_data"
    }
   ],
   "source": [
    "df_10.boxplot()"
   ]
  },
  {
   "cell_type": "code",
   "execution_count": 80,
   "metadata": {
    "collapsed": false
   },
   "outputs": [
    {
     "data": {
      "text/plain": [
       "(27,)"
      ]
     },
     "execution_count": 80,
     "metadata": {},
     "output_type": "execute_result"
    }
   ],
   "source": [
    "df_10['Mbbl'].shape"
   ]
  },
  {
   "cell_type": "code",
   "execution_count": null,
   "metadata": {
    "collapsed": true
   },
   "outputs": [],
   "source": []
  }
 ],
 "metadata": {
  "kernelspec": {
   "display_name": "Python 3",
   "language": "python",
   "name": "python3"
  },
  "language_info": {
   "codemirror_mode": {
    "name": "ipython",
    "version": 3
   },
   "file_extension": ".py",
   "mimetype": "text/x-python",
   "name": "python",
   "nbconvert_exporter": "python",
   "pygments_lexer": "ipython3",
   "version": "3.6.3"
  }
 },
 "nbformat": 4,
 "nbformat_minor": 2
}
