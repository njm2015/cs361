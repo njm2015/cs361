{
 "cells": [
  {
   "cell_type": "code",
   "execution_count": 117,
   "metadata": {},
   "outputs": [],
   "source": [
    "import pandas as pd\n",
    "import numpy as np\n",
    "from scipy.stats import norm"
   ]
  },
  {
   "cell_type": "code",
   "execution_count": 118,
   "metadata": {},
   "outputs": [],
   "source": [
    "def split_data(data, percent_train):\n",
    "    split_idx = int(data.shape[0] * percent_train)\n",
    "    return data.iloc[0:split_idx, :].copy(), data.iloc[split_idx:, :].copy()"
   ]
  },
  {
   "cell_type": "code",
   "execution_count": 120,
   "metadata": {},
   "outputs": [],
   "source": [
    "def get_py(groups):\n",
    "    p_y = np.empty(len(groups.groups))\n",
    "\n",
    "    for i, g in enumerate(groups.groups):\n",
    "        p_y[i] = len(groups.get_group(g))\n",
    "    return p_y"
   ]
  },
  {
   "cell_type": "code",
   "execution_count": 121,
   "metadata": {},
   "outputs": [],
   "source": [
    "def get_models(groups):\n",
    "    models = []\n",
    "    for i, g in enumerate(groups.groups):\n",
    "        curr_group = groups.get_group(g).copy()\n",
    "        curr_group.drop(columns='class', inplace=True)\n",
    "        curr_models = []\n",
    "        for col in curr_group.columns:\n",
    "            curr_models.append(norm.fit(curr_group[col]))\n",
    "        models.append(curr_models)\n",
    "    return models"
   ]
  },
  {
   "cell_type": "code",
   "execution_count": 139,
   "metadata": {},
   "outputs": [],
   "source": [
    "def predict(test_data, groups, models):\n",
    "    p_y = get_py(groups)\n",
    "    \n",
    "    predictions = np.empty(test_data.shape[0])\n",
    "\n",
    "    for idx, row in enumerate(test_data.values.tolist()):\n",
    "        curr_prediction = np.empty((len(groups.groups), len(row)))\n",
    "        for i, g in enumerate(groups.groups):\n",
    "            for j in range(len(row)):\n",
    "                curr_prediction[i][j] = norm.logpdf(row[j], loc=models[i][j][0], scale=models[i][j][1])\n",
    "        p_x_y = np.sum(curr_prediction, axis=1)\n",
    "        predictions[idx] = np.argmax(p_x_y + np.log(p_y))\n",
    "    return predictions"
   ]
  },
  {
   "cell_type": "code",
   "execution_count": 123,
   "metadata": {},
   "outputs": [],
   "source": [
    "def score(predictions, test_data_labels):\n",
    "    return (1 - (np.sum(1*(predictions != np.array(test_data_labels['class']).flatten())) / test_data.shape[0]))"
   ]
  },
  {
   "cell_type": "code",
   "execution_count": 70,
   "metadata": {},
   "outputs": [],
   "source": [
    "data = pd.read_csv('pima-indians-diabetes.data')\n",
    "train_data, test_data = split_data(data, .8)\n",
    "\n",
    "groups = train_data.groupby('class')\n",
    "test_data_labels = pd.DataFrame(test_data['class'])\n",
    "test_data.drop(columns='class', inplace=True)"
   ]
  },
  {
   "cell_type": "code",
   "execution_count": 140,
   "metadata": {},
   "outputs": [
    {
     "data": {
      "text/plain": [
       "0.7467532467532467"
      ]
     },
     "execution_count": 140,
     "metadata": {},
     "output_type": "execute_result"
    }
   ],
   "source": [
    "models = get_models(groups)\n",
    "predictions = predict(test_data, groups, models)\n",
    "print(score(predictions, test_data_labels))"
   ]
  },
  {
   "cell_type": "code",
   "execution_count": null,
   "metadata": {},
   "outputs": [],
   "source": []
  }
 ],
 "metadata": {
  "kernelspec": {
   "display_name": "Python 3",
   "language": "python",
   "name": "python3"
  },
  "language_info": {
   "codemirror_mode": {
    "name": "ipython",
    "version": 3
   },
   "file_extension": ".py",
   "mimetype": "text/x-python",
   "name": "python",
   "nbconvert_exporter": "python",
   "pygments_lexer": "ipython3",
   "version": "3.6.3"
  }
 },
 "nbformat": 4,
 "nbformat_minor": 2
}
