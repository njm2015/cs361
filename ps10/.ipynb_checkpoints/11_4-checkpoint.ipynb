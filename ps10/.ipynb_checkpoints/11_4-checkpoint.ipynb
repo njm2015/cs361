{
 "cells": [
  {
   "cell_type": "code",
   "execution_count": 388,
   "metadata": {},
   "outputs": [],
   "source": [
    "%matplotlib inline\n",
    "\n",
    "import numpy as np\n",
    "import pandas as pd\n",
    "import random\n",
    "from sklearn.cross_validation import train_test_split\n",
    "import matplotlib.pyplot as plt"
   ]
  },
  {
   "cell_type": "code",
   "execution_count": 358,
   "metadata": {},
   "outputs": [],
   "source": [
    "class SVM(object):\n",
    "    def __init__(self, D, reg_init=0.01, w_init=0.1, b_init=0.1):\n",
    "        self.a = np.matrix(np.random.rand(D)).T\n",
    "        self.reg = reg_init\n",
    "        self.b = b_init\n",
    "        \n",
    "    def g_0(self, X, y):\n",
    "        return self.reg * (self.a.T * self.a) / 2\n",
    "    \n",
    "    def g_i(self, X, y):\n",
    "        return np.maximum(0, 1-(np.multiply(y, X*self.a + self.b)))\n",
    "        \n",
    "    def cost(self, X, y):\n",
    "        N = X.shape[0]\n",
    "        return ((1/N) * np.sum(self.g_i(X, y))) + self.g_0(X, y)\n",
    "    \n",
    "    def single_cost(self, x_k, y_k):\n",
    "        return y_k * (self.a.T * x_k.T + self.b)\n",
    "    \n",
    "    def gradient(self, x_k, y_k):\n",
    "        if self.single_cost(x_k, y_k) >= 1:\n",
    "            grad = np.array([self.reg*self.a, 0])\n",
    "        else:\n",
    "            grad = np.array([self.reg*self.a - np.multiply(y_k, x_k.T), -y_k])\n",
    "        return grad\n",
    "        \n",
    "    def train(self, X, y, X_test, y_test, alpha=0.1, num_iters=100):\n",
    "        N = X.shape[0]\n",
    "        accuracy = np.empty(num_iters // 10)\n",
    "        for i in range(num_iters):\n",
    "            idx = random.randint(0, N-1)\n",
    "            grad = self.gradient(X[idx], y[idx])\n",
    "\n",
    "            self.a -= alpha * grad[0]\n",
    "            self.b -= alpha * grad[1]\n",
    "            if i % 10 == 0:\n",
    "                accuracy[i//10] = self.score(X_test, y_test)\n",
    "        return accuracy\n",
    "\n",
    "    def score(self, X_test, y_test):\n",
    "        predictions = np.sign(X_test*self.a + self.b)\n",
    "        return np.sum(1*(predictions == y_test)) / X_test.shape[0]"
   ]
  },
  {
   "cell_type": "code",
   "execution_count": 359,
   "metadata": {},
   "outputs": [],
   "source": [
    "def class_to_num(x):\n",
    "    if x == 'M':\n",
    "        return 1\n",
    "    else:\n",
    "        return -1"
   ]
  },
  {
   "cell_type": "code",
   "execution_count": 360,
   "metadata": {},
   "outputs": [],
   "source": [
    "cols = ['ID', 'class']\n",
    "cols_append = ['radius', 'texture', 'perimeter', 'area', 'smoothness', 'compactness', 'concavity', 'concave points', 'symmetry', 'fractal dimension']\n",
    "temp_l = [[i + str(j) for i in cols_append] for j in range(3)]\n",
    "final_l = [val for sublist in temp_l for val in sublist]\n",
    "data = pd.read_csv('wdbc.data', names=cols+final_l, index_col='ID')"
   ]
  },
  {
   "cell_type": "code",
   "execution_count": 361,
   "metadata": {},
   "outputs": [],
   "source": [
    "y = np.matrix(data['class'].apply(class_to_num)).T\n",
    "data.drop(columns='class', inplace=True)\n",
    "data_norm = (data - data.mean()) / (data.max() - data.min())\n",
    "X = np.matrix(data_norm)"
   ]
  },
  {
   "cell_type": "code",
   "execution_count": 423,
   "metadata": {},
   "outputs": [],
   "source": [
    "scores = np.ones((4,50,10))\n",
    "reg_list = [1e-3, 1e-2, 1e-1, 1]\n",
    "\n",
    "for j, reg in enumerate(reg_list):\n",
    "    svm = SVM(D=X.shape[1], reg_init=reg)\n",
    "    for i in range(50):\n",
    "        X_train, X_test, y_train, y_test = train_test_split(X, y, test_size=0.1)\n",
    "        scores[j,i,:] = svm.train(X_train, y_train, X_test, y_test)"
   ]
  },
  {
   "cell_type": "code",
   "execution_count": 424,
   "metadata": {},
   "outputs": [
    {
     "data": {
      "image/png": "[encoded data removed]",
      "text/plain": [
       "<Figure size 432x288 with 1 Axes>"
      ]
     },
     "metadata": {},
     "output_type": "display_data"
    },
    {
     "data": {
      "image/png": "[encoded data removed]",
      "text/plain": [
       "<Figure size 432x288 with 1 Axes>"
      ]
     },
     "metadata": {},
     "output_type": "display_data"
    },
    {
     "data": {
      "image/png": "[encoded data removed]",
      "text/plain": [
       "<Figure size 432x288 with 1 Axes>"
      ]
     },
     "metadata": {},
     "output_type": "display_data"
    },
    {
     "data": {
      "image/png": "[encoded data removed]",
      "text/plain": [
       "<Figure size 432x288 with 1 Axes>"
      ]
     },
     "metadata": {},
     "output_type": "display_data"
    }
   ],
   "source": [
    "for i, subarr in enumerate(np.mean(scores,axis=1)):\n",
    "    plt.plot(np.arange(10), subarr)\n",
    "    plt.title('$\\lambda=$' + str(reg_list[i]))\n",
    "    plt.ylim(0,1)\n",
    "    plt.xlabel('\\# iterations (/10)')\n",
    "    plt.ylabel('accuracy rate')\n",
    "    plt.show()"
   ]
  },
  {
   "cell_type": "markdown",
   "metadata": {},
   "source": [
    "What I did was kept track of all of the accuracies for every epoch for each of the regularization constants. After running all epochs, for each regularization constant, I averaged the accuracies for every 10 iterations and plotted them above.\n",
    "\n",
    "It looks as if using the $\\lambda=0.001$ regularization constant will give us the best results with our model because, compared with the $\\lambda=0.1$ and $\\lambda=1$ models, the $\\lambda=0.001$ does have significant improvement. The $\\lambda=0.01$ and $\\lambda=0.001$ models are very close, but the $\\lambda=0.001$ model ended up having a slightly higher accuracy. Using the $\\lambda=0.001$ model, we will estimate an accuracy for this classifier below."
   ]
  },
  {
   "cell_type": "code",
   "execution_count": 430,
   "metadata": {},
   "outputs": [
    {
     "name": "stdout",
     "output_type": "stream",
     "text": [
      "0.923157894736842\n"
     ]
    }
   ],
   "source": [
    "scores = np.empty(50)\n",
    "for i in range(50):\n",
    "    X_train, X_test, y_train, y_test = train_test_split(X, y, test_size=0.1)\n",
    "    svm = SVM(D=X.shape[1], reg_init=0.001)\n",
    "    svm.train(X_train, y_train, X_test, y_test)\n",
    "    scores[i] = svm.score(X_test, y_test)\n",
    "print(np.mean(scores))"
   ]
  },
  {
   "cell_type": "markdown",
   "metadata": {},
   "source": [
    "We see that we can achieve around a 92% accurate classifier using an SVM for this problem."
   ]
  },
  {
   "cell_type": "code",
   "execution_count": null,
   "metadata": {},
   "outputs": [],
   "source": []
  }
 ],
 "metadata": {
  "kernelspec": {
   "display_name": "Python 3",
   "language": "python",
   "name": "python3"
  },
  "language_info": {
   "codemirror_mode": {
    "name": "ipython",
    "version": 3
   },
   "file_extension": ".py",
   "mimetype": "text/x-python",
   "name": "python",
   "nbconvert_exporter": "python",
   "pygments_lexer": "ipython3",
   "version": "3.6.3"
  }
 },
 "nbformat": 4,
 "nbformat_minor": 2
}
